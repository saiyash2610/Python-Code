{
 "cells": [
  {
   "cell_type": "code",
   "execution_count": 1,
   "metadata": {},
   "outputs": [],
   "source": [
    "def encripted(string,shift):\n",
    "    cipher=''\n",
    "    for char in string:\n",
    "        if char==' ':\n",
    "            cipher=cipher+char\n",
    "        elif char.isupper():\n",
    "            cipher=cipher+chr((ord(char)+shift-65)%26+65)\n",
    "        else:\n",
    "            cipher=cipher+chr((ord(char)+shift-97)%26+97)\n",
    "    return cipher\n",
    "def decryption(string,shift):\n",
    "    cipher=''\n",
    "    for char in string:\n",
    "        if char==' ':\n",
    "            cipher=cipher+char\n",
    "        elif char.isupper():\n",
    "            cipher=cipher+chr((ord(char)-shift-65)%26+65)\n",
    "        else:\n",
    "            cipher=cipher+chr((ord(char)-shift-97)%26+97)\n",
    "    return cipher"
   ]
  },
  {
   "cell_type": "code",
   "execution_count": null,
   "metadata": {},
   "outputs": [],
   "source": [
    "text1=input('Enter your String: ')\n",
    "k1=int(input('enter the the key: '))\n",
    "print('encrypted msg:',encripted(text1,k1))\n",
    "text2=input('Enter your String: ')\n",
    "k2=int(input('enter the the key: '))\n",
    "print('decrypted msg:',decryption(text2,k2))"
   ]
  }
 ],
 "metadata": {
  "kernelspec": {
   "display_name": "Python 3",
   "language": "python",
   "name": "python3"
  },
  "language_info": {
   "codemirror_mode": {
    "name": "ipython",
    "version": 3
   },
   "file_extension": ".py",
   "mimetype": "text/x-python",
   "name": "python",
   "nbconvert_exporter": "python",
   "pygments_lexer": "ipython3",
   "version": "3.7.1"
  }
 },
 "nbformat": 4,
 "nbformat_minor": 2
}
